{
 "cells": [
  {
   "cell_type": "markdown",
   "metadata": {},
   "source": [
    "# Imports"
   ]
  },
  {
   "cell_type": "code",
   "execution_count": 1,
   "metadata": {},
   "outputs": [
    {
     "name": "stdout",
     "output_type": "stream",
     "text": [
      "'NoneType' object has no attribute 'cadam32bit_grad_fp32'\n"
     ]
    }
   ],
   "source": [
    "import warnings\n",
    "warnings.filterwarnings(\"ignore\")\n",
    "\n",
    "import os\n",
    "import glob\n",
    "import textwrap\n",
    "import time\n",
    "\n",
    "import langchain\n",
    "\n",
    "# loaders\n",
    "from langchain.document_loaders import PyPDFLoader\n",
    "from langchain.document_loaders import DirectoryLoader\n",
    "\n",
    "# splits\n",
    "from langchain.text_splitter import RecursiveCharacterTextSplitter\n",
    "\n",
    "# prompts\n",
    "from langchain import PromptTemplate, LLMChain\n",
    "\n",
    "# vector stores\n",
    "from langchain.vectorstores import Chroma, FAISS\n",
    "\n",
    "# models\n",
    "from langchain.llms import HuggingFacePipeline\n",
    "from InstructorEmbedding import INSTRUCTOR\n",
    "from langchain.embeddings import HuggingFaceInstructEmbeddings\n",
    "from langchain.llms import OpenAI\n",
    "\n",
    "# retrievers\n",
    "from langchain.chains import RetrievalQA\n",
    "from langchain import PromptTemplate, LLMChain\n",
    "\n",
    "import torch\n",
    "import transformers\n",
    "from transformers import AutoTokenizer, AutoModelForCausalLM, pipeline\n",
    "\n"
   ]
  },
  {
   "cell_type": "markdown",
   "metadata": {},
   "source": []
  },
  {
   "cell_type": "markdown",
   "metadata": {},
   "source": [
    "# CFG"
   ]
  },
  {
   "cell_type": "code",
   "execution_count": null,
   "metadata": {},
   "outputs": [],
   "source": [
    "\n",
    "llm = OpenAI(openai_api_key=\"replace with your own key\",\n",
    "             openai_organization=\"org-NP4wzeasQQUhkmhgBrG10unP\")"
   ]
  },
  {
   "cell_type": "code",
   "execution_count": 3,
   "metadata": {},
   "outputs": [],
   "source": [
    "class CFG:\n",
    "    # # LLMs\n",
    "    # model_name = 'llama2-13b' # wizardlm, bloom, falcon, llama2-7b, llama2-13b\n",
    "    # temperature = 0,\n",
    "    # top_p = 0.95,\n",
    "    # repetition_penalty = 1.15\n",
    "    \n",
    "      \n",
    "\n",
    "    # splitting\n",
    "    split_chunk_size = 800\n",
    "    split_overlap = 0\n",
    "    \n",
    "    # embeddings\n",
    "    embeddings_model_repo = 'hkunlp/instructor-base'    \n",
    "\n",
    "    # similar passages\n",
    "    k = 3\n",
    "    \n",
    "    # paths\n",
    "    PDFs_path = '/Users/MYW/Desktop/Langchain/HP books/' # replace with your own path\n",
    "    Embeddings_path =  '/Users/MYW/Desktop/Langchain/public faiss index hp'\n",
    "    Persist_directory = './harry-potter-vectordb'  "
   ]
  },
  {
   "cell_type": "markdown",
   "metadata": {},
   "source": [
    "\n",
    "#  Langchain\n"
   ]
  },
  {
   "cell_type": "markdown",
   "metadata": {},
   "source": [
    "## Files embeddings "
   ]
  },
  {
   "cell_type": "markdown",
   "metadata": {},
   "source": [
    "### Directory loader for multiple files"
   ]
  },
  {
   "cell_type": "code",
   "execution_count": 4,
   "metadata": {},
   "outputs": [
    {
     "name": "stderr",
     "output_type": "stream",
     "text": [
      "100%|██████████| 7/7 [01:17<00:00, 11.08s/it]"
     ]
    },
    {
     "name": "stdout",
     "output_type": "stream",
     "text": [
      "CPU times: user 1min 11s, sys: 1.1 s, total: 1min 12s\n",
      "Wall time: 1min 17s\n"
     ]
    },
    {
     "name": "stderr",
     "output_type": "stream",
     "text": [
      "\n"
     ]
    }
   ],
   "source": [
    "%%time\n",
    "\n",
    "loader = DirectoryLoader(\n",
    "    CFG.PDFs_path,\n",
    "    glob=\"./*.pdf\",\n",
    "    loader_cls=PyPDFLoader,\n",
    "    show_progress=True,\n",
    "    #use_multithreading=True\n",
    ")\n",
    "\n",
    "documents = loader.load()"
   ]
  },
  {
   "cell_type": "markdown",
   "metadata": {},
   "source": [
    "len(documents)\n"
   ]
  },
  {
   "cell_type": "markdown",
   "metadata": {},
   "source": [
    "### Splitter\n",
    "- Splitting the text into chunks so its passages are easily searchable for similarity\n",
    "- This step is also only necessary if you are creating the embeddings"
   ]
  },
  {
   "cell_type": "code",
   "execution_count": 5,
   "metadata": {},
   "outputs": [
    {
     "data": {
      "text/plain": [
       "10519"
      ]
     },
     "execution_count": 5,
     "metadata": {},
     "output_type": "execute_result"
    }
   ],
   "source": [
    "text_splitter = RecursiveCharacterTextSplitter(\n",
    "    chunk_size = CFG.split_chunk_size,\n",
    "    chunk_overlap = CFG.split_overlap\n",
    ")\n",
    "\n",
    "texts = text_splitter.split_documents(documents)\n",
    "len(texts)"
   ]
  },
  {
   "cell_type": "markdown",
   "metadata": {},
   "source": [
    "### Embeddings\n",
    "- Embedd and store the texts in a Vector database (FAISS or ChromaDB)\n",
    "\n",
    "### Create vector database¶\n",
    "- If you use Chroma vector store it will take ~35 min to create embeddings.\n",
    "- If you use FAISS vector store on GPU it will take just ~3 min.\n",
    "- We need to create the embeddings only once, and then we can just load the vector store and query the database using similarity search.\n",
    "- Loading the embeddings takes only a few seconds."
   ]
  },
  {
   "cell_type": "markdown",
   "metadata": {},
   "source": []
  },
  {
   "cell_type": "code",
   "execution_count": null,
   "metadata": {},
   "outputs": [],
   "source": [
    "# %%time\n",
    "\n",
    "# ### download embeddings model\n",
    "# instructor_embeddings = HuggingFaceInstructEmbeddings(\n",
    "#     model_name = CFG.embeddings_model_repo,\n",
    "#     model_kwargs = {\"device\": \"cuda\"} # change to cpu on premise\n",
    "# )\n",
    "\n",
    "# ### create embeddings and DB\n",
    "# vectordb = FAISS.from_documents(\n",
    "#     documents = texts, \n",
    "#     embedding = instructor_embeddings\n",
    "# )\n",
    "\n",
    "# ### persist vector database\n",
    "# vectordb.save_local(\"faiss_index_hp\")\n"
   ]
  },
  {
   "cell_type": "markdown",
   "metadata": {},
   "source": [
    "### Load vector database"
   ]
  },
  {
   "cell_type": "code",
   "execution_count": 6,
   "metadata": {},
   "outputs": [
    {
     "name": "stdout",
     "output_type": "stream",
     "text": [
      "load INSTRUCTOR_Transformer\n",
      "max_seq_length  512\n",
      "CPU times: user 1.61 s, sys: 672 ms, total: 2.28 s\n",
      "Wall time: 2.33 s\n"
     ]
    }
   ],
   "source": [
    "%%time\n",
    "\n",
    "### download embeddings model\n",
    "instructor_embeddings = HuggingFaceInstructEmbeddings(\n",
    "    model_name = CFG.embeddings_model_repo,\n",
    "    model_kwargs = {\"device\": \"cpu\"}\n",
    ")\n",
    "\n",
    "### load vector DB embeddings\n",
    "vectordb = FAISS.load_local(\n",
    "    CFG.Embeddings_path,\n",
    "    instructor_embeddings\n",
    ")"
   ]
  },
  {
   "cell_type": "code",
   "execution_count": 7,
   "metadata": {},
   "outputs": [
    {
     "data": {
      "text/plain": [
       "[Document(page_content='Magical Creatures much in this weather, though as Ron said, the skrewts would probably warm them  up nicely, either by chasing \\nthem, or blasting off so forcefull y that Hagrid’s cabin would catch \\nfire. \\nWhen they arrived at Hagrid’s cabi n, however, they found an el-\\nderly witch with closely cropped gray hair and a very prominent \\nchin standing before his front door. \\n“Hurry up, now, the bell rang fi ve minutes ago,” she barked at \\nthem as they stru ggled toward her through the snow. \\n“Who’re you?” said Ron, starin g at her. “Where’s Hagrid?” \\n“My name is Professor Grubbly-Pl ank,” she said briskly. “I am \\nyour temporary Care of Ma gical Creatures teacher.” \\n“Where’s Hagrid?” Ha rry repeated loudly. \\n“He is indisposed,” said Prof essor Grubbly-Plank shortly.', metadata={'source': '/kaggle/input/harry-potter-books-in-pdf-1-7/HP books/Harry Potter - Book 4 - The Goblet of Fire.pdf', 'page': 450}),\n",
       " Document(page_content='Regulation and Control of Magical Creatures, incorporating Beast,\\nBeing, and Spirit Divisions, Goblin Liason Oﬃce, and Pest Advi-\\nsory Bureau,” and the grilles slid open again, admitting a couple\\nof wizards and several pale violet paper airplanes that ﬂuttered\\naround the lamp in the ceiling of the lift.\\n“Morning, Albert,” said a bushily whiskered man, smiling at\\nHarry. He glanced over at Ron and Hermione as the lift creaked up-\\nward once more: Hermione was now whispering frantic instructions\\nto Ron. The wizard leaned toward Harry, leering, and muttered,\\n“Dirk Cresswell, eh? From Goblin Liaison? Nice one, Albert, I’m\\npretty conﬁdent I’ll get his job now!”\\nHe winked. Harry smiled back, hoping that this would suﬃce.\\nThe lift stopped; the grilles opened once more.', metadata={'source': '/kaggle/input/harry-potter-books-in-pdf-1-7/HP books/Harry Potter - Book 7 - The Deathly Hallows.pdf', 'page': 251}),\n",
       " Document(page_content='THE  UNFORGIVABLE CURSES \\n\\x91 211 \\x91 “Right then,” he said, when the last person had declared them-\\nselves present, “I’ve had a letter from Professor Lupin about this \\nclass. Seems you’ve had a pretty thorough grounding in tackling \\nDark creatures — you’ve covered boggarts, Red Caps, hinkypunks, \\ngrindylows, Kappas, and were wolves, is that right?” \\nThere was a general murmur of assent. “But you’re behind — very behind  — on dealing with curses,” \\nsaid Moody. “So I’m here to bring you up to scratch on what wiz-\\nards can do to each other. I’ve got one year to teach you how to deal \\nwith Dark —” \\n“What, aren’t you staying?” Ron blurted out. \\nMoody’s magical eye spun around to stare at Ron; Ron looked \\nextremely apprehensive, but afte r a moment Moody smiled — the', metadata={'source': '/kaggle/input/harry-potter-books-in-pdf-1-7/HP books/Harry Potter - Book 4 - The Goblet of Fire.pdf', 'page': 226}),\n",
       " Document(page_content='careful! By the laws laid down by the Department for the Regulation \\nand Control of Magical Creatures, an y attack by half-breeds such as \\nyourselves on a human —” \\n“What  did you call us?” shouted a wild-looking black centaur, \\nwhom Harry recognized as Bane. Th ere was a great deal of angry mut-\\ntering and tightening of bowstrings around them. \\n“Don’t call them that!” Hermione said furiously, but Umbridge did \\nnot appear to have heard her. St ill pointing her shaking wand at \\nMagorian, she continued, “Law Fift een B states clearly that ‘Any at-\\ntack by a magical creature who is deemed to have near-human intelli-\\ngence, and therefore considered responsible for its actions —’ ” \\n“ ‘Near-human intelligence’?” repeated Magorian, as Bane and sev-', metadata={'source': '/kaggle/input/harry-potter-books-in-pdf-1-7/HP books/Harry Potter - Book 5 - The Order of the Phoenix.pdf', 'page': 769})]"
      ]
     },
     "execution_count": 7,
     "metadata": {},
     "output_type": "execute_result"
    }
   ],
   "source": [
    "### test if vector DB was loaded correctly\n",
    "vectordb.similarity_search('magic creatures')"
   ]
  },
  {
   "cell_type": "markdown",
   "metadata": {},
   "source": [
    "## Prompt Template"
   ]
  },
  {
   "cell_type": "code",
   "execution_count": 8,
   "metadata": {},
   "outputs": [],
   "source": [
    "prompt_template = \"\"\"\n",
    "Don't try to make up an answer, if you don't know just say that you don't know.\n",
    "Answer in the same language the question was asked.\n",
    "Use only the following pieces of context to answer the question at the end.\n",
    "\n",
    "{context}\n",
    "\n",
    "Question: {question}\n",
    "Answer:\"\"\"\n",
    "\n",
    "\n",
    "PROMPT = PromptTemplate(\n",
    "    template = prompt_template, \n",
    "    input_variables = [\"context\", \"question\"]\n",
    ")"
   ]
  },
  {
   "cell_type": "markdown",
   "metadata": {},
   "source": [
    "## Retriever chain"
   ]
  },
  {
   "cell_type": "code",
   "execution_count": 10,
   "metadata": {},
   "outputs": [],
   "source": [
    "retriever = vectordb.as_retriever(search_kwargs = {\"k\": CFG.k, \"search_type\" : \"similarity\"})\n",
    "\n",
    "qa_chain = RetrievalQA.from_chain_type(\n",
    "    llm = llm,\n",
    "    chain_type = \"stuff\", # map_reduce, map_rerank, stuff, refine\n",
    "    retriever = retriever, \n",
    "    chain_type_kwargs = {\"prompt\": PROMPT},\n",
    "    return_source_documents = True,\n",
    "    verbose = False\n",
    ")"
   ]
  },
  {
   "cell_type": "code",
   "execution_count": 11,
   "metadata": {},
   "outputs": [
    {
     "data": {
      "text/plain": [
       "[Document(page_content='“Well,\\tso\\tthey\\tsay,”\\tsaid\\tHagrid.\\t“Crikey,\\tI’d\\tlike\\ta\\tdragon.”', metadata={'source': '/kaggle/input/harry-potter-books-in-pdf-1-7/HP books/Harry Potter - Book 1 - The Sorcerers Stone.pdf', 'page': 49}),\n",
       " Document(page_content=\"wisely. Behind him, Buckbeak spat a few ferret bones onto Hagrid'spillow.\", metadata={'source': '/kaggle/input/harry-potter-books-in-pdf-1-7/HP books/Harry Potter - Book 3 - The Prisoner of Azkaban.pdf', 'page': 228}),\n",
       " Document(page_content='HAGRID’S  TALE \\n\\x91 439 \\x91 couple o’ creatures saved fer yer O.W.L. year, you wait, they’re some-\\nthin’ really special.” \\n“Erm . . . special in what way? ” asked Hermione tentatively. \\n“I’m not sayin’,” said Hagrid ha ppily. “I don’ want ter spoil the \\nsurprise.” \\n“Look, Hagrid,” said Hermione ur gently, dropping all pretense, \\n“Professor Umbridge won’t be at a ll happy if you bring anything to \\nclass that’s too dangerous —” \\n“Dangerous?” said Hagrid, lookin g genially bemused. “Don’ be \\nsilly, I wouldn’ give yeh anythin’ dang erous! I mean, all righ’, they can \\nlook after themselves —” \\n“Hagrid, you’ve got to pass Umbridge’s inspection, and to do that \\nit would really be better if she sa w you teaching us how to look after \\nporlocks, how to tell the difference between knarls and hedgehogs,', metadata={'source': '/kaggle/input/harry-potter-books-in-pdf-1-7/HP books/Harry Potter - Book 5 - The Order of the Phoenix.pdf', 'page': 454})]"
      ]
     },
     "execution_count": 11,
     "metadata": {},
     "output_type": "execute_result"
    }
   ],
   "source": [
    "# testing MMR search\n",
    "question = \"Which are Hagrid's favorite animals?\"\n",
    "vectordb.max_marginal_relevance_search(question, k = CFG.k)"
   ]
  },
  {
   "cell_type": "code",
   "execution_count": 12,
   "metadata": {},
   "outputs": [
    {
     "data": {
      "text/plain": [
       "[Document(page_content='“Well,\\tso\\tthey\\tsay,”\\tsaid\\tHagrid.\\t“Crikey,\\tI’d\\tlike\\ta\\tdragon.”', metadata={'source': '/kaggle/input/harry-potter-books-in-pdf-1-7/HP books/Harry Potter - Book 1 - The Sorcerers Stone.pdf', 'page': 49}),\n",
       " Document(page_content='CHAPTER  THIRTEEN \\n\\x91 198 \\x91 nothing better than a pet drag on, as Harry, Ron, and Hermione \\nknew only too well — he had owned one for a brief period during \\ntheir first year, a vicious Norweg ian Ridgeback by the name of \\nNorbert. Hagrid simply loved monstrous creatures, the more \\nlethal, the better. \\n“Well, at least the skrewts are sma ll,” said Ron as they made their \\nway back up to the castle for lunch an hour later. \\n“They are now, ” said Hermione in an exasperated voice, “but \\nonce Hagrid’s found out what they eat, I expect they’ll be six feet \\nlong.” \\n“Well, that won’t matter if they turn out to cure seasickness or \\nsomething, will it?” said Ro n, grinning slyly at her. \\n“You know perfectly we ll I only said that to shut Malfoy up,”', metadata={'source': '/kaggle/input/harry-potter-books-in-pdf-1-7/HP books/Harry Potter - Book 4 - The Goblet of Fire.pdf', 'page': 213}),\n",
       " Document(page_content='CHAPTER  TWENTY-EIGHT \\n\\x91 544 \\x91 “Can you buy these as pets, Hagrid?” he asked excitedly as his \\nniffler dived back into the soil, splattering his robes. \\n“Yer mum wouldn’ be happy, Ro n,” said Hagrid, grinning. \\n“They wreck houses, nifflers. I re ckon they’ve nearly got the lot, \\nnow,” he added, pacing around the patch of earth while the nifflers \\ncontinued to dive. “I on’y buried a hundred coins. Oh there y’are, \\nHermione!” \\nHermione was walking toward th em across the lawn. Her hands \\nwere very heavily bandaged an d she looked miserable. Pansy \\nParkinson was watc hing her beadily. \\n“Well, let’s check how yeh’ve done!” said Hagrid. “Count yer \\ncoins! An’ there’s no point tryin’ te r steal any, Goyle,” he added, his \\nbeetle-black eyes narrowed. “It’s leprechaun gold. Vanishes after a', metadata={'source': '/kaggle/input/harry-potter-books-in-pdf-1-7/HP books/Harry Potter - Book 4 - The Goblet of Fire.pdf', 'page': 559})]"
      ]
     },
     "execution_count": 12,
     "metadata": {},
     "output_type": "execute_result"
    }
   ],
   "source": [
    "# testing similarity search\n",
    "question = \"Which are Hagrid's favorite animals?\"\n",
    "vectordb.similarity_search(question, k = CFG.k)"
   ]
  },
  {
   "cell_type": "markdown",
   "metadata": {},
   "source": [
    "# Post-process outputs"
   ]
  },
  {
   "cell_type": "code",
   "execution_count": 13,
   "metadata": {},
   "outputs": [],
   "source": [
    "def wrap_text_preserve_newlines(text, width=200): # 110\n",
    "    # Split the input text into lines based on newline characters\n",
    "    lines = text.split('\\n')\n",
    "\n",
    "    # Wrap each line individually\n",
    "    wrapped_lines = [textwrap.fill(line, width=width) for line in lines]\n",
    "\n",
    "    # Join the wrapped lines back together using newline characters\n",
    "    wrapped_text = '\\n'.join(wrapped_lines)\n",
    "\n",
    "    return wrapped_text\n",
    "\n",
    "\n",
    "def process_llm_response(llm_response):\n",
    "    ans = wrap_text_preserve_newlines(llm_response['result'])\n",
    "    \n",
    "    sources_used = ' \\n'.join(\n",
    "        [\n",
    "            source.metadata['source'].split('/')[-1][:-4] + ' - page: ' + str(source.metadata['page'])\n",
    "            for source in llm_response['source_documents']\n",
    "        ]\n",
    "    )\n",
    "    \n",
    "    ans = ans + '\\n\\nSources: \\n' + sources_used\n",
    "    return ans"
   ]
  },
  {
   "cell_type": "code",
   "execution_count": 14,
   "metadata": {},
   "outputs": [],
   "source": [
    "def llm_ans(query):\n",
    "    start = time.time()\n",
    "    llm_response = qa_chain(query)\n",
    "    ans = process_llm_response(llm_response)\n",
    "    end = time.time()\n",
    "\n",
    "    time_elapsed = int(round(end - start, 0))\n",
    "    time_elapsed_str = f'\\n\\nTime elapsed: {time_elapsed} s'\n",
    "    return ans + time_elapsed_str"
   ]
  },
  {
   "cell_type": "markdown",
   "metadata": {},
   "source": [
    "## Ask questions"
   ]
  },
  {
   "cell_type": "code",
   "execution_count": 15,
   "metadata": {},
   "outputs": [
    {
     "name": "stdout",
     "output_type": "stream",
     "text": [
      " 1. Draught of Peace: a potion to calm anxiety and soothe agitation, 2. Fizzing Whizbees: levitating sherbert balls, 3. Droobles Best Blowing Gum: fills a room with bluebell-colored bubbles that\n",
      "refuse to pop for days, 4. Pepper Imps: breathe fire for your friends, 5. Ice Mice: hear your teeth chatter and squeak.\n",
      "\n",
      "Sources: \n",
      "Harry Potter - Book 6 - The Half-Blood Prince - page: 421 \n",
      "Harry Potter - Book 5 - The Order of the Phoenix - page: 247 \n",
      "Harry Potter - Book 3 - The Prisoner of Azkaban - page: 164\n",
      "\n",
      "Time elapsed: 2 s\n"
     ]
    }
   ],
   "source": [
    "query = \"Give me 5 examples of cool potions and explain what they do\"\n",
    "print(llm_ans(query))\n"
   ]
  },
  {
   "cell_type": "markdown",
   "metadata": {},
   "source": [
    "# Gradio Chat UI"
   ]
  },
  {
   "cell_type": "code",
   "execution_count": 16,
   "metadata": {},
   "outputs": [
    {
     "name": "stdout",
     "output_type": "stream",
     "text": [
      "Running on local URL:  http://127.0.0.1:7861\n",
      "\n",
      "To create a public link, set `share=True` in `launch()`.\n"
     ]
    },
    {
     "data": {
      "text/html": [
       "<div><iframe src=\"http://127.0.0.1:7861/\" width=\"100%\" height=\"500\" allow=\"autoplay; camera; microphone; clipboard-read; clipboard-write;\" frameborder=\"0\" allowfullscreen></iframe></div>"
      ],
      "text/plain": [
       "<IPython.core.display.HTML object>"
      ]
     },
     "metadata": {},
     "output_type": "display_data"
    },
    {
     "data": {
      "text/plain": []
     },
     "execution_count": 16,
     "metadata": {},
     "output_type": "execute_result"
    }
   ],
   "source": [
    "import gradio as gr\n",
    "\n",
    "def predict(message, history):\n",
    "    # output = message # debug mode\n",
    "\n",
    "    output = str(llm_ans(message))\n",
    "    return output\n",
    "\n",
    "demo = gr.ChatInterface(\n",
    "    predict,\n",
    "    title = f' Open-Source LLM for Harry Potter Question Answering'\n",
    ")\n",
    "\n",
    "demo.launch()"
   ]
  },
  {
   "cell_type": "code",
   "execution_count": null,
   "metadata": {},
   "outputs": [],
   "source": []
  }
 ],
 "metadata": {
  "kernelspec": {
   "display_name": "Python 3",
   "language": "python",
   "name": "python3"
  },
  "language_info": {
   "codemirror_mode": {
    "name": "ipython",
    "version": 3
   },
   "file_extension": ".py",
   "mimetype": "text/x-python",
   "name": "python",
   "nbconvert_exporter": "python",
   "pygments_lexer": "ipython3",
   "version": "3.11.2"
  },
  "orig_nbformat": 4
 },
 "nbformat": 4,
 "nbformat_minor": 2
}
